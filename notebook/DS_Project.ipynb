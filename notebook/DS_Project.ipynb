{
 "cells": [
  {
   "cell_type": "code",
   "execution_count": 1,
   "id": "2c2ce77b",
   "metadata": {},
   "outputs": [],
   "source": [
    "import numpy as np\n",
    "import pandas as pd\n",
    "import matplotlib.pyplot as plt\n",
    "import seaborn as sns; sns.set()\n",
    "from sklearn import datasets, linear_model\n",
    "from sklearn import preprocessing\n",
    "from sklearn.feature_selection import RFE\n",
    "from datetime import datetime, timedelta\n",
    "import sweetviz as sv\n",
    "import IPython\n",
    "%matplotlib inline"
   ]
  },
  {
   "cell_type": "code",
   "execution_count": 2,
   "id": "e4fb2730",
   "metadata": {},
   "outputs": [
    {
     "data": {
      "text/html": [
       "<div>\n",
       "<style scoped>\n",
       "    .dataframe tbody tr th:only-of-type {\n",
       "        vertical-align: middle;\n",
       "    }\n",
       "\n",
       "    .dataframe tbody tr th {\n",
       "        vertical-align: top;\n",
       "    }\n",
       "\n",
       "    .dataframe thead th {\n",
       "        text-align: right;\n",
       "    }\n",
       "</style>\n",
       "<table border=\"1\" class=\"dataframe\">\n",
       "  <thead>\n",
       "    <tr style=\"text-align: right;\">\n",
       "      <th></th>\n",
       "      <th>Unnamed: 0</th>\n",
       "      <th>city</th>\n",
       "      <th>date</th>\n",
       "      <th>time</th>\n",
       "      <th>year</th>\n",
       "      <th>month</th>\n",
       "      <th>day</th>\n",
       "      <th>hour</th>\n",
       "      <th>minute</th>\n",
       "      <th>weather</th>\n",
       "      <th>temp</th>\n",
       "      <th>wind</th>\n",
       "      <th>humidity</th>\n",
       "      <th>barometer</th>\n",
       "      <th>visibility</th>\n",
       "    </tr>\n",
       "  </thead>\n",
       "  <tbody>\n",
       "    <tr>\n",
       "      <th>0</th>\n",
       "      <td>0</td>\n",
       "      <td>Qassim</td>\n",
       "      <td>1 January 2017</td>\n",
       "      <td>00:00</td>\n",
       "      <td>2017</td>\n",
       "      <td>1</td>\n",
       "      <td>1</td>\n",
       "      <td>24</td>\n",
       "      <td>0</td>\n",
       "      <td>Clear</td>\n",
       "      <td>17</td>\n",
       "      <td>11</td>\n",
       "      <td>64%</td>\n",
       "      <td>1018.0</td>\n",
       "      <td>16</td>\n",
       "    </tr>\n",
       "    <tr>\n",
       "      <th>1</th>\n",
       "      <td>1</td>\n",
       "      <td>Qassim</td>\n",
       "      <td>1 January 2017</td>\n",
       "      <td>01:00</td>\n",
       "      <td>2017</td>\n",
       "      <td>1</td>\n",
       "      <td>1</td>\n",
       "      <td>1</td>\n",
       "      <td>0</td>\n",
       "      <td>Clear</td>\n",
       "      <td>17</td>\n",
       "      <td>6</td>\n",
       "      <td>64%</td>\n",
       "      <td>1018.0</td>\n",
       "      <td>16</td>\n",
       "    </tr>\n",
       "    <tr>\n",
       "      <th>2</th>\n",
       "      <td>2</td>\n",
       "      <td>Qassim</td>\n",
       "      <td>1 January 2017</td>\n",
       "      <td>03:00</td>\n",
       "      <td>2017</td>\n",
       "      <td>1</td>\n",
       "      <td>1</td>\n",
       "      <td>3</td>\n",
       "      <td>0</td>\n",
       "      <td>Clear</td>\n",
       "      <td>15</td>\n",
       "      <td>11</td>\n",
       "      <td>72%</td>\n",
       "      <td>1019.0</td>\n",
       "      <td>16</td>\n",
       "    </tr>\n",
       "    <tr>\n",
       "      <th>3</th>\n",
       "      <td>3</td>\n",
       "      <td>Qassim</td>\n",
       "      <td>1 January 2017</td>\n",
       "      <td>04:00</td>\n",
       "      <td>2017</td>\n",
       "      <td>1</td>\n",
       "      <td>1</td>\n",
       "      <td>4</td>\n",
       "      <td>0</td>\n",
       "      <td>Clear</td>\n",
       "      <td>15</td>\n",
       "      <td>11</td>\n",
       "      <td>72%</td>\n",
       "      <td>1019.0</td>\n",
       "      <td>16</td>\n",
       "    </tr>\n",
       "    <tr>\n",
       "      <th>4</th>\n",
       "      <td>4</td>\n",
       "      <td>Qassim</td>\n",
       "      <td>1 January 2017</td>\n",
       "      <td>05:00</td>\n",
       "      <td>2017</td>\n",
       "      <td>1</td>\n",
       "      <td>1</td>\n",
       "      <td>5</td>\n",
       "      <td>0</td>\n",
       "      <td>Clear</td>\n",
       "      <td>15</td>\n",
       "      <td>9</td>\n",
       "      <td>72%</td>\n",
       "      <td>1019.0</td>\n",
       "      <td>16</td>\n",
       "    </tr>\n",
       "  </tbody>\n",
       "</table>\n",
       "</div>"
      ],
      "text/plain": [
       "   Unnamed: 0    city            date   time  year  month  day  hour  minute  \\\n",
       "0           0  Qassim  1 January 2017  00:00  2017      1    1    24       0   \n",
       "1           1  Qassim  1 January 2017  01:00  2017      1    1     1       0   \n",
       "2           2  Qassim  1 January 2017  03:00  2017      1    1     3       0   \n",
       "3           3  Qassim  1 January 2017  04:00  2017      1    1     4       0   \n",
       "4           4  Qassim  1 January 2017  05:00  2017      1    1     5       0   \n",
       "\n",
       "  weather  temp  wind humidity  barometer  visibility  \n",
       "0  Clear     17    11      64%     1018.0          16  \n",
       "1  Clear     17     6      64%     1018.0          16  \n",
       "2  Clear     15    11      72%     1019.0          16  \n",
       "3  Clear     15    11      72%     1019.0          16  \n",
       "4  Clear     15     9      72%     1019.0          16  "
      ]
     },
     "execution_count": 2,
     "metadata": {},
     "output_type": "execute_result"
    }
   ],
   "source": [
    "# read data from csv file.\n",
    "df = pd.read_csv('../data/archive/weather-sa-2017-2019-clean.csv')\n",
    "# df = pd.DataFrame(data)\n",
    "df.head()"
   ]
  },
  {
   "cell_type": "code",
   "execution_count": 3,
   "id": "933fddf0",
   "metadata": {},
   "outputs": [
    {
     "name": "stdout",
     "output_type": "stream",
     "text": [
      "<class 'pandas.core.frame.DataFrame'>\n",
      "RangeIndex: 249023 entries, 0 to 249022\n",
      "Data columns (total 15 columns):\n",
      " #   Column      Non-Null Count   Dtype  \n",
      "---  ------      --------------   -----  \n",
      " 0   Unnamed: 0  249023 non-null  int64  \n",
      " 1   city        249023 non-null  object \n",
      " 2   date        249023 non-null  object \n",
      " 3   time        249023 non-null  object \n",
      " 4   year        249023 non-null  int64  \n",
      " 5   month       249023 non-null  int64  \n",
      " 6   day         249023 non-null  int64  \n",
      " 7   hour        249023 non-null  int64  \n",
      " 8   minute      249023 non-null  int64  \n",
      " 9   weather     249023 non-null  object \n",
      " 10  temp        249023 non-null  int64  \n",
      " 11  wind        249023 non-null  int64  \n",
      " 12  humidity    249006 non-null  object \n",
      " 13  barometer   248951 non-null  float64\n",
      " 14  visibility  249023 non-null  int64  \n",
      "dtypes: float64(1), int64(9), object(5)\n",
      "memory usage: 28.5+ MB\n"
     ]
    }
   ],
   "source": [
    "df.info()"
   ]
  },
  {
   "cell_type": "code",
   "execution_count": 4,
   "id": "09f39b6e",
   "metadata": {},
   "outputs": [
    {
     "data": {
      "text/plain": [
       "(249023, 15)"
      ]
     },
     "execution_count": 4,
     "metadata": {},
     "output_type": "execute_result"
    }
   ],
   "source": [
    "df.shape"
   ]
  },
  {
   "cell_type": "code",
   "execution_count": 5,
   "id": "ee32184d",
   "metadata": {},
   "outputs": [
    {
     "data": {
      "text/plain": [
       "Unnamed: 0     0\n",
       "city           0\n",
       "date           0\n",
       "time           0\n",
       "year           0\n",
       "month          0\n",
       "day            0\n",
       "hour           0\n",
       "minute         0\n",
       "weather        0\n",
       "temp           0\n",
       "wind           0\n",
       "humidity      17\n",
       "barometer     72\n",
       "visibility     0\n",
       "dtype: int64"
      ]
     },
     "execution_count": 5,
     "metadata": {},
     "output_type": "execute_result"
    }
   ],
   "source": [
    "df.isnull().sum()"
   ]
  },
  {
   "cell_type": "code",
   "execution_count": 6,
   "id": "5192acc4",
   "metadata": {},
   "outputs": [
    {
     "data": {
      "text/html": [
       "<div>\n",
       "<style scoped>\n",
       "    .dataframe tbody tr th:only-of-type {\n",
       "        vertical-align: middle;\n",
       "    }\n",
       "\n",
       "    .dataframe tbody tr th {\n",
       "        vertical-align: top;\n",
       "    }\n",
       "\n",
       "    .dataframe thead th {\n",
       "        text-align: right;\n",
       "    }\n",
       "</style>\n",
       "<table border=\"1\" class=\"dataframe\">\n",
       "  <thead>\n",
       "    <tr style=\"text-align: right;\">\n",
       "      <th></th>\n",
       "      <th>city</th>\n",
       "      <th>date</th>\n",
       "      <th>year</th>\n",
       "      <th>month</th>\n",
       "      <th>day</th>\n",
       "      <th>hour</th>\n",
       "      <th>weather</th>\n",
       "      <th>temp</th>\n",
       "      <th>wind</th>\n",
       "      <th>humidity</th>\n",
       "      <th>barometer</th>\n",
       "      <th>visibility</th>\n",
       "    </tr>\n",
       "  </thead>\n",
       "  <tbody>\n",
       "    <tr>\n",
       "      <th>0</th>\n",
       "      <td>Qassim</td>\n",
       "      <td>1 January 2017</td>\n",
       "      <td>2017</td>\n",
       "      <td>1</td>\n",
       "      <td>1</td>\n",
       "      <td>24</td>\n",
       "      <td>Clear</td>\n",
       "      <td>17</td>\n",
       "      <td>11</td>\n",
       "      <td>64%</td>\n",
       "      <td>1018.0</td>\n",
       "      <td>16</td>\n",
       "    </tr>\n",
       "    <tr>\n",
       "      <th>1</th>\n",
       "      <td>Qassim</td>\n",
       "      <td>1 January 2017</td>\n",
       "      <td>2017</td>\n",
       "      <td>1</td>\n",
       "      <td>1</td>\n",
       "      <td>1</td>\n",
       "      <td>Clear</td>\n",
       "      <td>17</td>\n",
       "      <td>6</td>\n",
       "      <td>64%</td>\n",
       "      <td>1018.0</td>\n",
       "      <td>16</td>\n",
       "    </tr>\n",
       "    <tr>\n",
       "      <th>2</th>\n",
       "      <td>Qassim</td>\n",
       "      <td>1 January 2017</td>\n",
       "      <td>2017</td>\n",
       "      <td>1</td>\n",
       "      <td>1</td>\n",
       "      <td>3</td>\n",
       "      <td>Clear</td>\n",
       "      <td>15</td>\n",
       "      <td>11</td>\n",
       "      <td>72%</td>\n",
       "      <td>1019.0</td>\n",
       "      <td>16</td>\n",
       "    </tr>\n",
       "    <tr>\n",
       "      <th>3</th>\n",
       "      <td>Qassim</td>\n",
       "      <td>1 January 2017</td>\n",
       "      <td>2017</td>\n",
       "      <td>1</td>\n",
       "      <td>1</td>\n",
       "      <td>4</td>\n",
       "      <td>Clear</td>\n",
       "      <td>15</td>\n",
       "      <td>11</td>\n",
       "      <td>72%</td>\n",
       "      <td>1019.0</td>\n",
       "      <td>16</td>\n",
       "    </tr>\n",
       "    <tr>\n",
       "      <th>4</th>\n",
       "      <td>Qassim</td>\n",
       "      <td>1 January 2017</td>\n",
       "      <td>2017</td>\n",
       "      <td>1</td>\n",
       "      <td>1</td>\n",
       "      <td>5</td>\n",
       "      <td>Clear</td>\n",
       "      <td>15</td>\n",
       "      <td>9</td>\n",
       "      <td>72%</td>\n",
       "      <td>1019.0</td>\n",
       "      <td>16</td>\n",
       "    </tr>\n",
       "    <tr>\n",
       "      <th>5</th>\n",
       "      <td>Qassim</td>\n",
       "      <td>1 January 2017</td>\n",
       "      <td>2017</td>\n",
       "      <td>1</td>\n",
       "      <td>1</td>\n",
       "      <td>6</td>\n",
       "      <td>Clear</td>\n",
       "      <td>13</td>\n",
       "      <td>13</td>\n",
       "      <td>82%</td>\n",
       "      <td>1019.0</td>\n",
       "      <td>16</td>\n",
       "    </tr>\n",
       "    <tr>\n",
       "      <th>6</th>\n",
       "      <td>Qassim</td>\n",
       "      <td>1 January 2017</td>\n",
       "      <td>2017</td>\n",
       "      <td>1</td>\n",
       "      <td>1</td>\n",
       "      <td>7</td>\n",
       "      <td>Sunny</td>\n",
       "      <td>12</td>\n",
       "      <td>7</td>\n",
       "      <td>88%</td>\n",
       "      <td>1019.0</td>\n",
       "      <td>16</td>\n",
       "    </tr>\n",
       "    <tr>\n",
       "      <th>7</th>\n",
       "      <td>Qassim</td>\n",
       "      <td>1 January 2017</td>\n",
       "      <td>2017</td>\n",
       "      <td>1</td>\n",
       "      <td>1</td>\n",
       "      <td>8</td>\n",
       "      <td>Sunny</td>\n",
       "      <td>14</td>\n",
       "      <td>9</td>\n",
       "      <td>72%</td>\n",
       "      <td>1021.0</td>\n",
       "      <td>16</td>\n",
       "    </tr>\n",
       "    <tr>\n",
       "      <th>8</th>\n",
       "      <td>Qassim</td>\n",
       "      <td>1 January 2017</td>\n",
       "      <td>2017</td>\n",
       "      <td>1</td>\n",
       "      <td>1</td>\n",
       "      <td>9</td>\n",
       "      <td>Sunny</td>\n",
       "      <td>15</td>\n",
       "      <td>9</td>\n",
       "      <td>72%</td>\n",
       "      <td>1021.0</td>\n",
       "      <td>7</td>\n",
       "    </tr>\n",
       "    <tr>\n",
       "      <th>9</th>\n",
       "      <td>Qassim</td>\n",
       "      <td>1 January 2017</td>\n",
       "      <td>2017</td>\n",
       "      <td>1</td>\n",
       "      <td>1</td>\n",
       "      <td>10</td>\n",
       "      <td>Sunny</td>\n",
       "      <td>17</td>\n",
       "      <td>7</td>\n",
       "      <td>64%</td>\n",
       "      <td>1021.0</td>\n",
       "      <td>9</td>\n",
       "    </tr>\n",
       "  </tbody>\n",
       "</table>\n",
       "</div>"
      ],
      "text/plain": [
       "     city            date  year  month  day  hour weather  temp  wind  \\\n",
       "0  Qassim  1 January 2017  2017      1    1    24  Clear     17    11   \n",
       "1  Qassim  1 January 2017  2017      1    1     1  Clear     17     6   \n",
       "2  Qassim  1 January 2017  2017      1    1     3  Clear     15    11   \n",
       "3  Qassim  1 January 2017  2017      1    1     4  Clear     15    11   \n",
       "4  Qassim  1 January 2017  2017      1    1     5  Clear     15     9   \n",
       "5  Qassim  1 January 2017  2017      1    1     6  Clear     13    13   \n",
       "6  Qassim  1 January 2017  2017      1    1     7  Sunny     12     7   \n",
       "7  Qassim  1 January 2017  2017      1    1     8  Sunny     14     9   \n",
       "8  Qassim  1 January 2017  2017      1    1     9  Sunny     15     9   \n",
       "9  Qassim  1 January 2017  2017      1    1    10  Sunny     17     7   \n",
       "\n",
       "  humidity  barometer  visibility  \n",
       "0      64%     1018.0          16  \n",
       "1      64%     1018.0          16  \n",
       "2      72%     1019.0          16  \n",
       "3      72%     1019.0          16  \n",
       "4      72%     1019.0          16  \n",
       "5      82%     1019.0          16  \n",
       "6      88%     1019.0          16  \n",
       "7      72%     1021.0          16  \n",
       "8      72%     1021.0           7  \n",
       "9      64%     1021.0           9  "
      ]
     },
     "execution_count": 6,
     "metadata": {},
     "output_type": "execute_result"
    }
   ],
   "source": [
    "df.drop(['Unnamed: 0', 'time', 'minute'], axis =1 , inplace =True)\n",
    "df.head(10)"
   ]
  },
  {
   "cell_type": "code",
   "execution_count": 7,
   "id": "8a6a8cea",
   "metadata": {},
   "outputs": [
    {
     "data": {
      "application/vnd.jupyter.widget-view+json": {
       "model_id": "82961050733b4b38ba66f73286bd775c",
       "version_major": 2,
       "version_minor": 0
      },
      "text/plain": [
       "                                             |                                             | [  0%]   00:00 ->…"
      ]
     },
     "metadata": {},
     "output_type": "display_data"
    },
    {
     "name": "stdout",
     "output_type": "stream",
     "text": [
      "Report analyze.html was generated! NOTEBOOK/COLAB USERS: the web browser MAY not pop up, regardless, the report IS saved in your notebook/colab files.\n"
     ]
    }
   ],
   "source": [
    "analyze_report = sv.analyze(df)\n",
    "analyze_report.show_html('analyze.html', open_browser=True)"
   ]
  },
  {
   "cell_type": "code",
   "execution_count": 8,
   "id": "42d47346",
   "metadata": {},
   "outputs": [],
   "source": [
    "# IPython.display.HTML('analyze.html')"
   ]
  },
  {
   "cell_type": "code",
   "execution_count": 9,
   "id": "219855c5",
   "metadata": {},
   "outputs": [
    {
     "data": {
      "image/png": "[encoded data removed]",
      "text/plain": [
       "<Figure size 2400x600 with 2 Axes>"
      ]
     },
     "metadata": {},
     "output_type": "display_data"
    }
   ],
   "source": [
    "plt.figure(figsize=[24,6])\n",
    "\n",
    "# first - MAX\n",
    "plt.subplot(1,2,1)\n",
    "sns.barplot(data=df, x='month', y='temp', estimator=np.max, palette='Blues')\n",
    "plt.title('tempature compared to months. MAX')\n",
    "plt.legend(['max'])\n",
    "\n",
    "# second - MIN\n",
    "plt.subplot(1,2,2)\n",
    "sns.barplot(data=df, x='month', y='temp', estimator=np.min, palette='Blues')\n",
    "plt.title('tempature compared to months. MIN')\n",
    "plt.legend(['min'])\n",
    "\n",
    "plt.show()"
   ]
  },
  {
   "cell_type": "code",
   "execution_count": 10,
   "id": "6aca36f6",
   "metadata": {},
   "outputs": [
    {
     "name": "stdout",
     "output_type": "stream",
     "text": [
      "max temp:  50\n",
      "min temp:  -4\n"
     ]
    }
   ],
   "source": [
    "temp = df['temp']\n",
    "# max_temp = temp.max()\n",
    "# min_temp = temp.min()\n",
    "print('max temp: ', temp.max())\n",
    "print('min temp: ', temp.min())"
   ]
  },
  {
   "cell_type": "code",
   "execution_count": 11,
   "id": "47c70f27",
   "metadata": {},
   "outputs": [
    {
     "data": {
      "text/plain": [
       "<AxesSubplot:xlabel='humidity', ylabel='temp'>"
      ]
     },
     "execution_count": 11,
     "metadata": {},
     "output_type": "execute_result"
    },
    {
     "data": {
      "image/png": "[encoded data removed]",
      "text/plain": [
       "<Figure size 600x400 with 1 Axes>"
      ]
     },
     "metadata": {},
     "output_type": "display_data"
    }
   ],
   "source": [
    "sns.lineplot(data=df, y=\"temp\", x='humidity')"
   ]
  },
  {
   "cell_type": "code",
   "execution_count": null,
   "id": "c318144a",
   "metadata": {},
   "outputs": [],
   "source": []
  }
 ],
 "metadata": {
  "kernelspec": {
   "display_name": "Python 3 (ipykernel)",
   "language": "python",
   "name": "python3"
  },
  "language_info": {
   "codemirror_mode": {
    "name": "ipython",
    "version": 3
   },
   "file_extension": ".py",
   "mimetype": "text/x-python",
   "name": "python",
   "nbconvert_exporter": "python",
   "pygments_lexer": "ipython3",
   "version": "3.9.7"
  }
 },
 "nbformat": 4,
 "nbformat_minor": 5
}
